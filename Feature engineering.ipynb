{
 "cells": [
  {
   "cell_type": "code",
   "execution_count": 1,
   "metadata": {},
   "outputs": [],
   "source": [
    "import pandas as pd\n",
    "import geopandas as gpd\n",
    "import shapely\n",
    "\n",
    "import numpy as np\n",
    "import os\n",
    "import re\n",
    "import tempfile"
   ]
  },
  {
   "cell_type": "code",
   "execution_count": 2,
   "metadata": {},
   "outputs": [],
   "source": [
    "import matplotlib.pyplot as plt\n",
    "%matplotlib inline"
   ]
  },
  {
   "cell_type": "markdown",
   "metadata": {},
   "source": [
    "# Load dataframes"
   ]
  },
  {
   "cell_type": "code",
   "execution_count": 3,
   "metadata": {},
   "outputs": [],
   "source": [
    "from etl import load_debt, load_receipt, load_filer, load_expense, load_contributions"
   ]
  },
  {
   "cell_type": "code",
   "execution_count": 4,
   "metadata": {},
   "outputs": [
    {
     "name": "stdout",
     "output_type": "stream",
     "text": [
      "Loading data frame from data/debt.pkl.\n",
      "Data frame loaded.\n",
      "Loading data frame from data/receipt.pkl.\n",
      "Data frame loaded.\n",
      "Loading data frame from data/filer.pkl.\n",
      "Data frame loaded.\n",
      "Loading data frame from data/expense.pkl.\n",
      "Data frame loaded.\n",
      "Loading data frame from data/contrib.pkl.\n",
      "Data frame loaded.\n"
     ]
    }
   ],
   "source": [
    "debt = load_debt()\n",
    "receipt = load_receipt()\n",
    "filer = load_filer()\n",
    "expense = load_expense()\n",
    "contrib = load_contributions()"
   ]
  },
  {
   "cell_type": "markdown",
   "metadata": {},
   "source": [
    "## load pa house districts"
   ]
  },
  {
   "cell_type": "code",
   "execution_count": 5,
   "metadata": {},
   "outputs": [],
   "source": [
    "fname = os.path.join('data', 'PA_house.geojson')\n",
    "\n",
    "with open(fname, 'r') as f:\n",
    "    a = f.readlines()\n",
    "pa_house = gpd.read_file(fname, driver='GeoJSON')"
   ]
  },
  {
   "cell_type": "code",
   "execution_count": 6,
   "metadata": {},
   "outputs": [],
   "source": [
    "def plot(foreground, background):\n",
    "    base = background.plot(color='white', edgecolor='black')\n",
    "    return foreground.plot(ax=base, color='red');"
   ]
  },
  {
   "cell_type": "markdown",
   "metadata": {},
   "source": [
    "# Working with shapely"
   ]
  },
  {
   "cell_type": "code",
   "execution_count": 7,
   "metadata": {},
   "outputs": [],
   "source": [
    "from shapely.geometry import LineString"
   ]
  },
  {
   "cell_type": "code",
   "execution_count": 8,
   "metadata": {},
   "outputs": [],
   "source": [
    "def build_line(x, y=None):\n",
    "    if x is None:\n",
    "        return None\n",
    "    else:\n",
    "        return LineString([x, y])\n",
    "\n",
    "\n",
    "def get_filer_from_df(filer_id, df):\n",
    "    x = filer[filer.filer_id == filer_id].iloc[0]\n",
    "    name = x['Filer Name']\n",
    "    point = x.geometry\n",
    "\n",
    "    temp_df = df[df.filer_id == filer_id].copy()\n",
    "    temp_df.geometry = temp_df.geometry.apply(lambda x: build_line(x, point))\n",
    "    return name, temp_df"
   ]
  },
  {
   "cell_type": "markdown",
   "metadata": {},
   "source": [
    "## filers"
   ]
  },
  {
   "cell_type": "code",
   "execution_count": 9,
   "metadata": {},
   "outputs": [
    {
     "data": {
      "text/html": [
       "<div>\n",
       "<style scoped>\n",
       "    .dataframe tbody tr th:only-of-type {\n",
       "        vertical-align: middle;\n",
       "    }\n",
       "\n",
       "    .dataframe tbody tr th {\n",
       "        vertical-align: top;\n",
       "    }\n",
       "\n",
       "    .dataframe thead th {\n",
       "        text-align: right;\n",
       "    }\n",
       "</style>\n",
       "<table border=\"1\" class=\"dataframe\">\n",
       "  <thead>\n",
       "    <tr style=\"text-align: right;\">\n",
       "      <th></th>\n",
       "      <th>Filer Identification Number</th>\n",
       "      <th>Election Year</th>\n",
       "      <th>Election Cycle</th>\n",
       "      <th>Section</th>\n",
       "      <th>Contributor</th>\n",
       "      <th>Contributor Address 1</th>\n",
       "      <th>Contributor Address 2</th>\n",
       "      <th>Contributor City</th>\n",
       "      <th>Contributor State</th>\n",
       "      <th>Contributor Zip Code</th>\n",
       "      <th>...</th>\n",
       "      <th>Contribution Date</th>\n",
       "      <th>Contribution Amount</th>\n",
       "      <th>Contribution Description</th>\n",
       "      <th>Contributor Location 1</th>\n",
       "      <th>Contributor Location 2</th>\n",
       "      <th>Employer Location 1</th>\n",
       "      <th>Employer Location 2</th>\n",
       "      <th>amount</th>\n",
       "      <th>address</th>\n",
       "      <th>geometry</th>\n",
       "    </tr>\n",
       "    <tr>\n",
       "      <th>filer_id</th>\n",
       "      <th></th>\n",
       "      <th></th>\n",
       "      <th></th>\n",
       "      <th></th>\n",
       "      <th></th>\n",
       "      <th></th>\n",
       "      <th></th>\n",
       "      <th></th>\n",
       "      <th></th>\n",
       "      <th></th>\n",
       "      <th></th>\n",
       "      <th></th>\n",
       "      <th></th>\n",
       "      <th></th>\n",
       "      <th></th>\n",
       "      <th></th>\n",
       "      <th></th>\n",
       "      <th></th>\n",
       "      <th></th>\n",
       "      <th></th>\n",
       "      <th></th>\n",
       "    </tr>\n",
       "  </thead>\n",
       "  <tbody>\n",
       "    <tr>\n",
       "      <th>8600230</th>\n",
       "      <td>28132</td>\n",
       "      <td>28132</td>\n",
       "      <td>28132</td>\n",
       "      <td>28132</td>\n",
       "      <td>28132</td>\n",
       "      <td>28132</td>\n",
       "      <td>28132</td>\n",
       "      <td>28132</td>\n",
       "      <td>28132</td>\n",
       "      <td>28132</td>\n",
       "      <td>...</td>\n",
       "      <td>28132</td>\n",
       "      <td>28132</td>\n",
       "      <td>28132</td>\n",
       "      <td>28132</td>\n",
       "      <td>28132</td>\n",
       "      <td>28132</td>\n",
       "      <td>28132</td>\n",
       "      <td>28132</td>\n",
       "      <td>28132</td>\n",
       "      <td>28132</td>\n",
       "    </tr>\n",
       "    <tr>\n",
       "      <th>8200581</th>\n",
       "      <td>17589</td>\n",
       "      <td>17589</td>\n",
       "      <td>17589</td>\n",
       "      <td>17589</td>\n",
       "      <td>17589</td>\n",
       "      <td>17589</td>\n",
       "      <td>17589</td>\n",
       "      <td>17589</td>\n",
       "      <td>17589</td>\n",
       "      <td>17589</td>\n",
       "      <td>...</td>\n",
       "      <td>17589</td>\n",
       "      <td>17589</td>\n",
       "      <td>17589</td>\n",
       "      <td>17589</td>\n",
       "      <td>17589</td>\n",
       "      <td>17589</td>\n",
       "      <td>17589</td>\n",
       "      <td>17589</td>\n",
       "      <td>17589</td>\n",
       "      <td>17589</td>\n",
       "    </tr>\n",
       "    <tr>\n",
       "      <th>7900477</th>\n",
       "      <td>9749</td>\n",
       "      <td>9749</td>\n",
       "      <td>9749</td>\n",
       "      <td>9749</td>\n",
       "      <td>9749</td>\n",
       "      <td>9749</td>\n",
       "      <td>9749</td>\n",
       "      <td>9749</td>\n",
       "      <td>9749</td>\n",
       "      <td>9749</td>\n",
       "      <td>...</td>\n",
       "      <td>9749</td>\n",
       "      <td>9749</td>\n",
       "      <td>9749</td>\n",
       "      <td>9749</td>\n",
       "      <td>9749</td>\n",
       "      <td>9749</td>\n",
       "      <td>9749</td>\n",
       "      <td>9749</td>\n",
       "      <td>9749</td>\n",
       "      <td>9749</td>\n",
       "    </tr>\n",
       "    <tr>\n",
       "      <th>2002281</th>\n",
       "      <td>7561</td>\n",
       "      <td>7561</td>\n",
       "      <td>7561</td>\n",
       "      <td>7561</td>\n",
       "      <td>7561</td>\n",
       "      <td>7561</td>\n",
       "      <td>7561</td>\n",
       "      <td>7561</td>\n",
       "      <td>7561</td>\n",
       "      <td>7561</td>\n",
       "      <td>...</td>\n",
       "      <td>7561</td>\n",
       "      <td>7561</td>\n",
       "      <td>7561</td>\n",
       "      <td>7561</td>\n",
       "      <td>7561</td>\n",
       "      <td>7561</td>\n",
       "      <td>7561</td>\n",
       "      <td>7561</td>\n",
       "      <td>7561</td>\n",
       "      <td>7544</td>\n",
       "    </tr>\n",
       "    <tr>\n",
       "      <th>7900366</th>\n",
       "      <td>6465</td>\n",
       "      <td>6465</td>\n",
       "      <td>6465</td>\n",
       "      <td>6465</td>\n",
       "      <td>6465</td>\n",
       "      <td>6465</td>\n",
       "      <td>6465</td>\n",
       "      <td>6465</td>\n",
       "      <td>6465</td>\n",
       "      <td>6465</td>\n",
       "      <td>...</td>\n",
       "      <td>6465</td>\n",
       "      <td>6465</td>\n",
       "      <td>6465</td>\n",
       "      <td>6465</td>\n",
       "      <td>6465</td>\n",
       "      <td>6465</td>\n",
       "      <td>6465</td>\n",
       "      <td>6465</td>\n",
       "      <td>6465</td>\n",
       "      <td>6454</td>\n",
       "    </tr>\n",
       "  </tbody>\n",
       "</table>\n",
       "<p>5 rows × 27 columns</p>\n",
       "</div>"
      ],
      "text/plain": [
       "          Filer Identification Number  Election Year  Election Cycle  Section  \\\n",
       "filer_id                                                                        \n",
       "8600230                         28132          28132           28132    28132   \n",
       "8200581                         17589          17589           17589    17589   \n",
       "7900477                          9749           9749            9749     9749   \n",
       "2002281                          7561           7561            7561     7561   \n",
       "7900366                          6465           6465            6465     6465   \n",
       "\n",
       "          Contributor  Contributor Address 1  Contributor Address 2  \\\n",
       "filer_id                                                              \n",
       "8600230         28132                  28132                  28132   \n",
       "8200581         17589                  17589                  17589   \n",
       "7900477          9749                   9749                   9749   \n",
       "2002281          7561                   7561                   7561   \n",
       "7900366          6465                   6465                   6465   \n",
       "\n",
       "          Contributor City  Contributor State  Contributor Zip Code    ...     \\\n",
       "filer_id                                                               ...      \n",
       "8600230              28132              28132                 28132    ...      \n",
       "8200581              17589              17589                 17589    ...      \n",
       "7900477               9749               9749                  9749    ...      \n",
       "2002281               7561               7561                  7561    ...      \n",
       "7900366               6465               6465                  6465    ...      \n",
       "\n",
       "          Contribution Date  Contribution Amount  Contribution Description  \\\n",
       "filer_id                                                                     \n",
       "8600230               28132                28132                     28132   \n",
       "8200581               17589                17589                     17589   \n",
       "7900477                9749                 9749                      9749   \n",
       "2002281                7561                 7561                      7561   \n",
       "7900366                6465                 6465                      6465   \n",
       "\n",
       "          Contributor Location 1  Contributor Location 2  Employer Location 1  \\\n",
       "filer_id                                                                        \n",
       "8600230                    28132                   28132                28132   \n",
       "8200581                    17589                   17589                17589   \n",
       "7900477                     9749                    9749                 9749   \n",
       "2002281                     7561                    7561                 7561   \n",
       "7900366                     6465                    6465                 6465   \n",
       "\n",
       "          Employer Location 2  amount  address  geometry  \n",
       "filer_id                                                  \n",
       "8600230                 28132   28132    28132     28132  \n",
       "8200581                 17589   17589    17589     17589  \n",
       "7900477                  9749    9749     9749      9749  \n",
       "2002281                  7561    7561     7561      7544  \n",
       "7900366                  6465    6465     6465      6454  \n",
       "\n",
       "[5 rows x 27 columns]"
      ]
     },
     "execution_count": 9,
     "metadata": {},
     "output_type": "execute_result"
    }
   ],
   "source": [
    "contrib.groupby('filer_id').count().sort_values('Section', ascending=False).head(5)"
   ]
  },
  {
   "cell_type": "code",
   "execution_count": 10,
   "metadata": {},
   "outputs": [],
   "source": [
    "filer_id = '7900366'\n",
    "name, df = get_filer_from_df(filer_id, contrib)"
   ]
  },
  {
   "cell_type": "code",
   "execution_count": 11,
   "metadata": {},
   "outputs": [
    {
     "data": {
      "text/plain": [
       "'PSEA-PACE FOR STATE ELECTIONS'"
      ]
     },
     "execution_count": 11,
     "metadata": {},
     "output_type": "execute_result"
    }
   ],
   "source": [
    "name"
   ]
  },
  {
   "cell_type": "code",
   "execution_count": 12,
   "metadata": {},
   "outputs": [
    {
     "data": {
      "text/html": [
       "<div>\n",
       "<style scoped>\n",
       "    .dataframe tbody tr th:only-of-type {\n",
       "        vertical-align: middle;\n",
       "    }\n",
       "\n",
       "    .dataframe tbody tr th {\n",
       "        vertical-align: top;\n",
       "    }\n",
       "\n",
       "    .dataframe thead th {\n",
       "        text-align: right;\n",
       "    }\n",
       "</style>\n",
       "<table border=\"1\" class=\"dataframe\">\n",
       "  <thead>\n",
       "    <tr style=\"text-align: right;\">\n",
       "      <th></th>\n",
       "      <th>Filer Identification Number</th>\n",
       "      <th>Election Year</th>\n",
       "      <th>Election Cycle</th>\n",
       "      <th>Section</th>\n",
       "      <th>Contributor</th>\n",
       "      <th>Contributor Address 1</th>\n",
       "      <th>Contributor Address 2</th>\n",
       "      <th>Contributor City</th>\n",
       "      <th>Contributor State</th>\n",
       "      <th>Contributor Zip Code</th>\n",
       "      <th>...</th>\n",
       "      <th>Contribution Amount</th>\n",
       "      <th>Contribution Description</th>\n",
       "      <th>Contributor Location 1</th>\n",
       "      <th>Contributor Location 2</th>\n",
       "      <th>Employer Location 1</th>\n",
       "      <th>Employer Location 2</th>\n",
       "      <th>amount</th>\n",
       "      <th>filer_id</th>\n",
       "      <th>address</th>\n",
       "      <th>geometry</th>\n",
       "    </tr>\n",
       "  </thead>\n",
       "  <tbody>\n",
       "    <tr>\n",
       "      <th>536</th>\n",
       "      <td>7900366</td>\n",
       "      <td>2017</td>\n",
       "      <td>3</td>\n",
       "      <td>IB</td>\n",
       "      <td>ROSEMARIE J PAOLUCCI</td>\n",
       "      <td>356 SIDNEY AVE</td>\n",
       "      <td>PO BOX 625</td>\n",
       "      <td>POCONO SUMMIT</td>\n",
       "      <td>PA</td>\n",
       "      <td>183460625</td>\n",
       "      <td>...</td>\n",
       "      <td>$21.00</td>\n",
       "      <td></td>\n",
       "      <td>356 SIDNEY AVE\\nPOCONO SUMMIT, PA 183460625\\n</td>\n",
       "      <td>PO BOX 625\\nPOCONO SUMMIT, PA 183460625\\n</td>\n",
       "      <td></td>\n",
       "      <td></td>\n",
       "      <td>21.0</td>\n",
       "      <td>7900366</td>\n",
       "      <td>356 SIDNEY AVE PO BOX 625 POCONO SUMMIT PA 183...</td>\n",
       "      <td>None</td>\n",
       "    </tr>\n",
       "    <tr>\n",
       "      <th>537</th>\n",
       "      <td>7900366</td>\n",
       "      <td>2017</td>\n",
       "      <td>3</td>\n",
       "      <td>IB</td>\n",
       "      <td>ROSEMARIE J PAOLUCCI</td>\n",
       "      <td>356 SIDNEY AVE</td>\n",
       "      <td>PO BOX 625</td>\n",
       "      <td>POCONO SUMMIT</td>\n",
       "      <td>PA</td>\n",
       "      <td>183460625</td>\n",
       "      <td>...</td>\n",
       "      <td>$10.00</td>\n",
       "      <td></td>\n",
       "      <td>356 SIDNEY AVE\\nPOCONO SUMMIT, PA 183460625\\n</td>\n",
       "      <td>PO BOX 625\\nPOCONO SUMMIT, PA 183460625\\n</td>\n",
       "      <td></td>\n",
       "      <td></td>\n",
       "      <td>10.0</td>\n",
       "      <td>7900366</td>\n",
       "      <td>356 SIDNEY AVE PO BOX 625 POCONO SUMMIT PA 183...</td>\n",
       "      <td>None</td>\n",
       "    </tr>\n",
       "    <tr>\n",
       "      <th>538</th>\n",
       "      <td>7900366</td>\n",
       "      <td>2017</td>\n",
       "      <td>3</td>\n",
       "      <td>IB</td>\n",
       "      <td>ROSEMARIE J PAOLUCCI</td>\n",
       "      <td>356 SIDNEY AVE</td>\n",
       "      <td>PO BOX 625</td>\n",
       "      <td>POCONO SUMMIT</td>\n",
       "      <td>PA</td>\n",
       "      <td>183460625</td>\n",
       "      <td>...</td>\n",
       "      <td>$21.00</td>\n",
       "      <td></td>\n",
       "      <td>356 SIDNEY AVE\\nPOCONO SUMMIT, PA 183460625\\n</td>\n",
       "      <td>PO BOX 625\\nPOCONO SUMMIT, PA 183460625\\n</td>\n",
       "      <td></td>\n",
       "      <td></td>\n",
       "      <td>21.0</td>\n",
       "      <td>7900366</td>\n",
       "      <td>356 SIDNEY AVE PO BOX 625 POCONO SUMMIT PA 183...</td>\n",
       "      <td>None</td>\n",
       "    </tr>\n",
       "    <tr>\n",
       "      <th>62942</th>\n",
       "      <td>7900366</td>\n",
       "      <td>2017</td>\n",
       "      <td>2</td>\n",
       "      <td>IB</td>\n",
       "      <td>LUCY C HARLOW</td>\n",
       "      <td>PO BOX 266</td>\n",
       "      <td></td>\n",
       "      <td>LEMONT</td>\n",
       "      <td>PA</td>\n",
       "      <td>168510266</td>\n",
       "      <td>...</td>\n",
       "      <td>$20.00</td>\n",
       "      <td></td>\n",
       "      <td>PO BOX 266\\nLEMONT, PA 168510266\\n</td>\n",
       "      <td>LEMONT, PA 168510266\\n(40.809342, -77.817072)</td>\n",
       "      <td></td>\n",
       "      <td></td>\n",
       "      <td>20.0</td>\n",
       "      <td>7900366</td>\n",
       "      <td>PO BOX 266  LEMONT PA 168510266</td>\n",
       "      <td>LINESTRING (-77.817072 40.809342, -76.884517 4...</td>\n",
       "    </tr>\n",
       "    <tr>\n",
       "      <th>64951</th>\n",
       "      <td>7900366</td>\n",
       "      <td>2017</td>\n",
       "      <td>3</td>\n",
       "      <td>IB</td>\n",
       "      <td>PATTY A HANSEN</td>\n",
       "      <td>PO BOX 562</td>\n",
       "      <td></td>\n",
       "      <td>GREENTOWN</td>\n",
       "      <td>PA</td>\n",
       "      <td>184260562</td>\n",
       "      <td>...</td>\n",
       "      <td>$52.00</td>\n",
       "      <td></td>\n",
       "      <td>PO BOX 562\\nGREENTOWN, PA 184260562\\n</td>\n",
       "      <td>GREENTOWN, PA 184260562\\n(41.336672, -75.265606)</td>\n",
       "      <td></td>\n",
       "      <td></td>\n",
       "      <td>52.0</td>\n",
       "      <td>7900366</td>\n",
       "      <td>PO BOX 562  GREENTOWN PA 184260562</td>\n",
       "      <td>LINESTRING (-75.26560600000001 41.336672, -76....</td>\n",
       "    </tr>\n",
       "  </tbody>\n",
       "</table>\n",
       "<p>5 rows × 28 columns</p>\n",
       "</div>"
      ],
      "text/plain": [
       "      Filer Identification Number  Election Year  Election Cycle Section  \\\n",
       "536                       7900366           2017               3      IB   \n",
       "537                       7900366           2017               3      IB   \n",
       "538                       7900366           2017               3      IB   \n",
       "62942                     7900366           2017               2      IB   \n",
       "64951                     7900366           2017               3      IB   \n",
       "\n",
       "                Contributor Contributor Address 1 Contributor Address 2  \\\n",
       "536    ROSEMARIE J PAOLUCCI        356 SIDNEY AVE            PO BOX 625   \n",
       "537    ROSEMARIE J PAOLUCCI        356 SIDNEY AVE            PO BOX 625   \n",
       "538    ROSEMARIE J PAOLUCCI        356 SIDNEY AVE            PO BOX 625   \n",
       "62942         LUCY C HARLOW            PO BOX 266                         \n",
       "64951        PATTY A HANSEN            PO BOX 562                         \n",
       "\n",
       "      Contributor City Contributor State Contributor Zip Code  \\\n",
       "536      POCONO SUMMIT                PA            183460625   \n",
       "537      POCONO SUMMIT                PA            183460625   \n",
       "538      POCONO SUMMIT                PA            183460625   \n",
       "62942           LEMONT                PA            168510266   \n",
       "64951        GREENTOWN                PA            184260562   \n",
       "\n",
       "                             ...                         Contribution Amount  \\\n",
       "536                          ...                                      $21.00   \n",
       "537                          ...                                      $10.00   \n",
       "538                          ...                                      $21.00   \n",
       "62942                        ...                                      $20.00   \n",
       "64951                        ...                                      $52.00   \n",
       "\n",
       "      Contribution Description                         Contributor Location 1  \\\n",
       "536                             356 SIDNEY AVE\\nPOCONO SUMMIT, PA 183460625\\n   \n",
       "537                             356 SIDNEY AVE\\nPOCONO SUMMIT, PA 183460625\\n   \n",
       "538                             356 SIDNEY AVE\\nPOCONO SUMMIT, PA 183460625\\n   \n",
       "62942                                      PO BOX 266\\nLEMONT, PA 168510266\\n   \n",
       "64951                                   PO BOX 562\\nGREENTOWN, PA 184260562\\n   \n",
       "\n",
       "                                 Contributor Location 2 Employer Location 1  \\\n",
       "536           PO BOX 625\\nPOCONO SUMMIT, PA 183460625\\n                       \n",
       "537           PO BOX 625\\nPOCONO SUMMIT, PA 183460625\\n                       \n",
       "538           PO BOX 625\\nPOCONO SUMMIT, PA 183460625\\n                       \n",
       "62942     LEMONT, PA 168510266\\n(40.809342, -77.817072)                       \n",
       "64951  GREENTOWN, PA 184260562\\n(41.336672, -75.265606)                       \n",
       "\n",
       "      Employer Location 2 amount filer_id  \\\n",
       "536                         21.0  7900366   \n",
       "537                         10.0  7900366   \n",
       "538                         21.0  7900366   \n",
       "62942                       20.0  7900366   \n",
       "64951                       52.0  7900366   \n",
       "\n",
       "                                                 address  \\\n",
       "536    356 SIDNEY AVE PO BOX 625 POCONO SUMMIT PA 183...   \n",
       "537    356 SIDNEY AVE PO BOX 625 POCONO SUMMIT PA 183...   \n",
       "538    356 SIDNEY AVE PO BOX 625 POCONO SUMMIT PA 183...   \n",
       "62942                    PO BOX 266  LEMONT PA 168510266   \n",
       "64951                 PO BOX 562  GREENTOWN PA 184260562   \n",
       "\n",
       "                                                geometry  \n",
       "536                                                 None  \n",
       "537                                                 None  \n",
       "538                                                 None  \n",
       "62942  LINESTRING (-77.817072 40.809342, -76.884517 4...  \n",
       "64951  LINESTRING (-75.26560600000001 41.336672, -76....  \n",
       "\n",
       "[5 rows x 28 columns]"
      ]
     },
     "execution_count": 12,
     "metadata": {},
     "output_type": "execute_result"
    }
   ],
   "source": [
    "df.head()"
   ]
  },
  {
   "cell_type": "code",
   "execution_count": 13,
   "metadata": {},
   "outputs": [
    {
     "data": {
      "image/png": "[encoded data removed]",
      "text/plain": [
       "<matplotlib.figure.Figure at 0x127727b70>"
      ]
     },
     "metadata": {},
     "output_type": "display_data"
    }
   ],
   "source": [
    "plot(df, pa_house);"
   ]
  },
  {
   "cell_type": "code",
   "execution_count": 14,
   "metadata": {},
   "outputs": [
    {
     "data": {
      "image/png": "[encoded data removed]",
      "text/plain": [
       "<matplotlib.figure.Figure at 0x127903320>"
      ]
     },
     "metadata": {},
     "output_type": "display_data"
    }
   ],
   "source": [
    "df.amount.plot.hist();"
   ]
  },
  {
   "cell_type": "code",
   "execution_count": 15,
   "metadata": {},
   "outputs": [],
   "source": [
    "name, out_df = get_filer_from_df(filer_id, expense)"
   ]
  },
  {
   "cell_type": "code",
   "execution_count": 16,
   "metadata": {},
   "outputs": [
    {
     "data": {
      "image/png": "[encoded data removed]",
      "text/plain": [
       "<matplotlib.figure.Figure at 0x1282d9fd0>"
      ]
     },
     "metadata": {},
     "output_type": "display_data"
    }
   ],
   "source": [
    "plot(out_df, pa_house);"
   ]
  },
  {
   "cell_type": "code",
   "execution_count": 17,
   "metadata": {},
   "outputs": [],
   "source": [
    "def amount_to_float(amount):\n",
    "    if type(amount) == float and np.isnan(amount):\n",
    "        return np.nan\n",
    "    pattern = re.compile(r'\\$(.*)')\n",
    "    g = re.match(pattern, amount)\n",
    "    if g:\n",
    "        return float(g.groups()[0])\n",
    "    else:\n",
    "        return np.nan"
   ]
  },
  {
   "cell_type": "code",
   "execution_count": 18,
   "metadata": {},
   "outputs": [
    {
     "data": {
      "text/plain": [
       "<matplotlib.axes._subplots.AxesSubplot at 0x128275e80>"
      ]
     },
     "execution_count": 18,
     "metadata": {},
     "output_type": "execute_result"
    },
    {
     "data": {
      "image/png": "[encoded data removed]",
      "text/plain": [
       "<matplotlib.figure.Figure at 0x127798e80>"
      ]
     },
     "metadata": {},
     "output_type": "display_data"
    }
   ],
   "source": [
    "out_df['Expense Amount'].apply(amount_to_float).plot.hist()"
   ]
  },
  {
   "cell_type": "code",
   "execution_count": null,
   "metadata": {},
   "outputs": [],
   "source": []
  }
 ],
 "metadata": {
  "kernelspec": {
   "display_name": "Python 3",
   "language": "python",
   "name": "python3"
  },
  "language_info": {
   "codemirror_mode": {
    "name": "ipython",
    "version": 3
   },
   "file_extension": ".py",
   "mimetype": "text/x-python",
   "name": "python",
   "nbconvert_exporter": "python",
   "pygments_lexer": "ipython3",
   "version": "3.6.3"
  }
 },
 "nbformat": 4,
 "nbformat_minor": 2
}
