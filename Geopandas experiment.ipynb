{
 "cells": [
  {
   "cell_type": "code",
   "execution_count": 1,
   "metadata": {},
   "outputs": [],
   "source": [
    "import pandas as pd\n",
    "import numpy as np\n",
    "import json\n",
    "import os\n",
    "import re\n",
    "import tempfile\n",
    "import matplotlib.pyplot as plt\n",
    "%matplotlib inline"
   ]
  },
  {
   "cell_type": "code",
   "execution_count": 2,
   "metadata": {},
   "outputs": [],
   "source": [
    "files = 'contrib.pkl debt.pkl expense.pkl filer.pkl receipt.pkl'.split(' ')\n",
    "fps = [os.path.join('data', x) for x in files]"
   ]
  },
  {
   "cell_type": "code",
   "execution_count": 3,
   "metadata": {},
   "outputs": [],
   "source": [
    "contrib = pd.read_pickle(fps[0])\n",
    "debt = pd.read_pickle(fps[1])\n",
    "expense = pd.read_pickle(fps[2])\n",
    "filer = pd.read_pickle(fps[3])\n",
    "receipt = pd.read_pickle(fps[4])"
   ]
  },
  {
   "cell_type": "code",
   "execution_count": 4,
   "metadata": {},
   "outputs": [],
   "source": [
    "import geopandas as gpd\n",
    "import shapely"
   ]
  },
  {
   "cell_type": "markdown",
   "metadata": {},
   "source": [
    "# Load PA house"
   ]
  },
  {
   "cell_type": "code",
   "execution_count": 31,
   "metadata": {},
   "outputs": [],
   "source": [
    "fname = os.path.join('data', 'PA_house.geojson')\n",
    "\n",
    "with open(fname, 'r') as f:\n",
    "    a = f.readlines()\n",
    "pa_counties = gpd.read_file(fname, driver='GeoJSON')"
   ]
  },
  {
   "cell_type": "markdown",
   "metadata": {},
   "source": [
    "# Exporting to geojson"
   ]
  },
  {
   "cell_type": "code",
   "execution_count": 5,
   "metadata": {},
   "outputs": [],
   "source": [
    "from geojson import Feature, FeatureCollection, Point\n",
    "import geojson"
   ]
  },
  {
   "cell_type": "code",
   "execution_count": 6,
   "metadata": {},
   "outputs": [],
   "source": [
    "def to_geojson(df):\n",
    "    for i, x in df.iterrows():\n",
    "        geometry = None\n",
    "        if not np.isnan(x.lat):\n",
    "            geometry = Point((x.long, x.lat))\n",
    "        properties = json.loads(x.to_json())\n",
    "        yield Feature(geometry=geometry,\n",
    "                      properties=properties)\n",
    "    return"
   ]
  },
  {
   "cell_type": "code",
   "execution_count": 7,
   "metadata": {},
   "outputs": [],
   "source": [
    "fc = FeatureCollection([y for y in to_geojson(debt)])"
   ]
  },
  {
   "cell_type": "code",
   "execution_count": 8,
   "metadata": {},
   "outputs": [],
   "source": [
    "import tempfile\n",
    "from os.path import join\n",
    "import shutil\n",
    "\n",
    "def load_feature_collection(fc):\n",
    "    # Convert a FeatureCollection to a GeoDataFrame.\n",
    "    # Note: Workaround Fiona bullshit\n",
    "    #\n",
    "    # Args:\n",
    "    #   fc - a geojson FeatureCollection\n",
    "    # Returns:\n",
    "    #   a GeoPandas GeoDataFrame\n",
    "    tempdir = tempfile.mkdtemp()\n",
    "    fname = join(tempdir, 'temp.json')\n",
    "\n",
    "    with open(fname, 'w') as f:\n",
    "        geojson.dump(fc, f, allow_nan=True)\n",
    "\n",
    "    gdf = gpd.read_file(fname, driver='GeoJSON')\n",
    "    shutil.rmtree(tempdir)\n",
    "    return gdf"
   ]
  },
  {
   "cell_type": "code",
   "execution_count": 9,
   "metadata": {},
   "outputs": [],
   "source": [
    "gdf = load_feature_collection(fc)"
   ]
  },
  {
   "cell_type": "code",
   "execution_count": 69,
   "metadata": {},
   "outputs": [
    {
     "data": {
      "image/png": "[encoded data removed]",
      "text/plain": [
       "<matplotlib.figure.Figure at 0x11463f128>"
      ]
     },
     "metadata": {},
     "output_type": "display_data"
    }
   ],
   "source": [
    "base = pa_counties.plot(color='white', edgecolor='black')\n",
    "gdf.plot(ax=base, marker='*', color='red', markersize=5);"
   ]
  },
  {
   "cell_type": "markdown",
   "metadata": {},
   "source": [
    "## simplified $l^\\infty$ distance finding\n",
    "\n",
    "* Each degree of latitude is approximately 69 miles (111 kilometers) apart.\n",
    "    * 1 mile $\\approx 1/69$ degree\n",
    "* Each degree of longitude is about $\\frac{a \\pi}{180} \\cos (lat)$, where $a = 3,959$ miles.\n",
    "    * 1 mile $\\approx \\frac{180 \\sec(lat)}{3959 \\pi}$\n"
   ]
  },
  {
   "cell_type": "code",
   "execution_count": 65,
   "metadata": {},
   "outputs": [],
   "source": [
    "import math\n",
    "\n",
    "def lat_to_mile():\n",
    "    return 1.0 / 69.0\n",
    "\n",
    "\n",
    "def long_to_mile(lat):\n",
    "    return 180 / (3959 * math.pi * math.cos(lat * math.pi / 180))\n",
    "\n",
    "\n",
    "def filter_distance(df, lat, long, dist):\n",
    "    delta_lat = dist * lat_to_mile()\n",
    "    delta_long = dist * long_to_mile(lat)\n",
    "    return df[df.lat.between(lat - delta_lat, lat + delta_lat)\n",
    "              & df.long.between(long - delta_long, long + delta_long)]"
   ]
  },
  {
   "cell_type": "code",
   "execution_count": 64,
   "metadata": {},
   "outputs": [
    {
     "data": {
      "text/plain": [
       "(516, 19)"
      ]
     },
     "execution_count": 64,
     "metadata": {},
     "output_type": "execute_result"
    }
   ],
   "source": [
    "lat = 39.9352144\n",
    "long = -75.1720487\n",
    "\n",
    "filter_distance(expense, lat, long, 1).shape"
   ]
  }
 ],
 "metadata": {
  "kernelspec": {
   "display_name": "Python 3",
   "language": "python",
   "name": "python3"
  },
  "language_info": {
   "codemirror_mode": {
    "name": "ipython",
    "version": 3
   },
   "file_extension": ".py",
   "mimetype": "text/x-python",
   "name": "python",
   "nbconvert_exporter": "python",
   "pygments_lexer": "ipython3",
   "version": "3.6.2"
  }
 },
 "nbformat": 4,
 "nbformat_minor": 2
}
